{
  "nbformat": 4,
  "nbformat_minor": 0,
  "metadata": {
    "colab": {
      "provenance": [],
      "gpuType": "T4",
      "authorship_tag": "ABX9TyMZGLfSvGAgYxlSHTUDiyYB",
      "include_colab_link": true
    },
    "kernelspec": {
      "name": "python3",
      "display_name": "Python 3"
    },
    "language_info": {
      "name": "python"
    },
    "accelerator": "GPU"
  },
  "cells": [
    {
      "cell_type": "markdown",
      "metadata": {
        "id": "view-in-github",
        "colab_type": "text"
      },
      "source": [
        "<a href=\"https://colab.research.google.com/github/kumakura-023/test/blob/main/Untitled0.ipynb\" target=\"_parent\"><img src=\"https://colab.research.google.com/assets/colab-badge.svg\" alt=\"Open In Colab\"/></a>"
      ]
    },
    {
      "cell_type": "code",
      "execution_count": 8,
      "metadata": {
        "colab": {
          "base_uri": "https://localhost:8080/"
        },
        "id": "imJSmHODloYU",
        "outputId": "be1fb07a-f788-4697-9712-a5d4fc879e39"
      },
      "outputs": [
        {
          "output_type": "stream",
          "name": "stdout",
          "text": [
            "fatal: destination path 'test' already exists and is not an empty directory.\n"
          ]
        }
      ],
      "source": [
        "!git clone https://github.com/kumakura-023/test.git"
      ]
    },
    {
      "cell_type": "code",
      "source": [
        "!curl -I https://github.com\n"
      ],
      "metadata": {
        "colab": {
          "base_uri": "https://localhost:8080/"
        },
        "id": "St9GDiU5mhfn",
        "outputId": "65170843-bb6b-4396-8f5e-08bac608c878"
      },
      "execution_count": 5,
      "outputs": [
        {
          "output_type": "stream",
          "name": "stdout",
          "text": [
            "HTTP/2 200 \r\n",
            "\u001b[1mserver\u001b[0m: GitHub.com\r\n",
            "\u001b[1mdate\u001b[0m: Mon, 17 Feb 2025 06:36:03 GMT\r\n",
            "\u001b[1mcontent-type\u001b[0m: text/html; charset=utf-8\r\n",
            "\u001b[1mvary\u001b[0m: X-PJAX, X-PJAX-Container, Turbo-Visit, Turbo-Frame, Accept-Language, Accept-Encoding, Accept, X-Requested-With\r\n",
            "\u001b[1mcontent-language\u001b[0m: en-US\r\n",
            "\u001b[1metag\u001b[0m: W/\"d914494c81c80058824d76f7dc6fd619\"\r\n",
            "\u001b[1mcache-control\u001b[0m: max-age=0, private, must-revalidate\r\n",
            "\u001b[1mstrict-transport-security\u001b[0m: max-age=31536000; includeSubdomains; preload\r\n",
            "\u001b[1mx-frame-options\u001b[0m: deny\r\n",
            "\u001b[1mx-content-type-options\u001b[0m: nosniff\r\n",
            "\u001b[1mx-xss-protection\u001b[0m: 0\r\n",
            "\u001b[1mreferrer-policy\u001b[0m: origin-when-cross-origin, strict-origin-when-cross-origin\r\n",
            "\u001b[1mcontent-security-policy\u001b[0m: default-src 'none'; base-uri 'self'; child-src github.com/assets-cdn/worker/ github.com/webpack/ github.com/assets/ gist.github.com/assets-cdn/worker/; connect-src 'self' uploads.github.com www.githubstatus.com collector.github.com raw.githubusercontent.com api.github.com github-cloud.s3.amazonaws.com github-production-repository-file-5c1aeb.s3.amazonaws.com github-production-upload-manifest-file-7fdce7.s3.amazonaws.com github-production-user-asset-6210df.s3.amazonaws.com *.rel.tunnels.api.visualstudio.com wss://*.rel.tunnels.api.visualstudio.com objects-origin.githubusercontent.com copilot-proxy.githubusercontent.com proxy.individual.githubcopilot.com proxy.business.githubcopilot.com proxy.enterprise.githubcopilot.com *.actions.githubusercontent.com wss://*.actions.githubusercontent.com productionresultssa0.blob.core.windows.net/ productionresultssa1.blob.core.windows.net/ productionresultssa2.blob.core.windows.net/ productionresultssa3.blob.core.windows.net/ productionresultssa4.blob.core.windows.net/ productionresultssa5.blob.core.windows.net/ productionresultssa6.blob.core.windows.net/ productionresultssa7.blob.core.windows.net/ productionresultssa8.blob.core.windows.net/ productionresultssa9.blob.core.windows.net/ productionresultssa10.blob.core.windows.net/ productionresultssa11.blob.core.windows.net/ productionresultssa12.blob.core.windows.net/ productionresultssa13.blob.core.windows.net/ productionresultssa14.blob.core.windows.net/ productionresultssa15.blob.core.windows.net/ productionresultssa16.blob.core.windows.net/ productionresultssa17.blob.core.windows.net/ productionresultssa18.blob.core.windows.net/ productionresultssa19.blob.core.windows.net/ github-production-repository-image-32fea6.s3.amazonaws.com github-production-release-asset-2e65be.s3.amazonaws.com insights.github.com wss://alive.github.com api.githubcopilot.com api.individual.githubcopilot.com api.business.githubcopilot.com api.enterprise.githubcopilot.com github.githubassets.com edge.fullstory.com rs.fullstory.com; font-src github.githubassets.com; form-action 'self' github.com gist.github.com copilot-workspace.githubnext.com objects-origin.githubusercontent.com; frame-ancestors 'none'; frame-src viewscreen.githubusercontent.com notebooks.githubusercontent.com www.youtube-nocookie.com; img-src 'self' data: blob: github.githubassets.com media.githubusercontent.com camo.githubusercontent.com identicons.github.com avatars.githubusercontent.com private-avatars.githubusercontent.com github-cloud.s3.amazonaws.com objects.githubusercontent.com secured-user-images.githubusercontent.com/ user-images.githubusercontent.com/ private-user-images.githubusercontent.com opengraph.githubassets.com github-production-user-asset-6210df.s3.amazonaws.com customer-stories-feed.github.com spotlights-feed.github.com objects-origin.githubusercontent.com *.githubusercontent.com; manifest-src 'self'; media-src github.com user-images.githubusercontent.com/ secured-user-images.githubusercontent.com/ private-user-images.githubusercontent.com github-production-user-asset-6210df.s3.amazonaws.com gist.github.com github.githubassets.com; script-src github.githubassets.com; style-src 'unsafe-inline' github.githubassets.com; upgrade-insecure-requests; worker-src github.com/assets-cdn/worker/ github.com/webpack/ github.com/assets/ gist.github.com/assets-cdn/worker/\r\n",
            "\u001b[1maccept-ranges\u001b[0m: bytes\r\n",
            "\u001b[1mset-cookie\u001b[0m: _gh_sess=R2N5V8flf5gCQCV4fJ26wFOgbSTewY%2FM8VdblDkbbLuao5SmurrpixyNX%2BCzNlGmjv9BqWU%2FiWV%2B7OUxfOwjjsQ1aytYIWKcTMLBW1%2FBP2n64W6lkw5gT%2BasusY09XzWd4lb0dFYazuiU17g%2Fy%2F8JGfJWbtw43xZmACRqtAJrgZ31C1p8Y3%2BXk4BgWUAyNnEnrYj9HGIaADhCsrfHqnDQjN39LCF8N5tqBy1SpHKOERkC55wDrU1uj7e4T3P3nAGbqi%2BbYCgbNFs6cgESFktcg%3D%3D--x28J6wPH4OYQ7jXz--m6l2mvILMun5Vw6TfJhMxQ%3D%3D; Path=/; HttpOnly; Secure; SameSite=Lax\r\n",
            "\u001b[1mset-cookie\u001b[0m: _octo=GH1.1.462223665.1739774173; Path=/; Domain=github.com; Expires=Tue, 17 Feb 2026 06:36:13 GMT; Secure; SameSite=Lax\r\n",
            "\u001b[1mset-cookie\u001b[0m: logged_in=no; Path=/; Domain=github.com; Expires=Tue, 17 Feb 2026 06:36:13 GMT; HttpOnly; Secure; SameSite=Lax\r\n",
            "\u001b[1mx-github-request-id\u001b[0m: E6DA:57E14:BDFF96:10311A4:67B2D8DD\r\n",
            "\r\n"
          ]
        }
      ]
    },
    {
      "cell_type": "code",
      "source": [],
      "metadata": {
        "id": "HsmnwcMGnws0"
      },
      "execution_count": null,
      "outputs": []
    }
  ]
}